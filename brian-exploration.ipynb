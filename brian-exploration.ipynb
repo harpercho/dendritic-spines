{
 "cells": [
  {
   "cell_type": "code",
   "execution_count": 20,
   "id": "2bfb95ea-2278-4d2e-bd16-3183d5af70b6",
   "metadata": {},
   "outputs": [],
   "source": [
    "from brian2 import *\n",
    "import numpy as np"
   ]
  },
  {
   "cell_type": "markdown",
   "id": "7bc101cc-0934-41b2-9453-c6697d5a8f07",
   "metadata": {},
   "source": [
    "# Introduction\n",
    "\n",
    "Dendritic spines are an essential structure in dlPFC pyramidal neurons for regulating neuromodulators. Decreased populations of such spines have, for instance, been associated with schizophrenia and other neurological disorders. Studying their effect on excitatory neurotransmission is the goal of this project. Specifically, we want to look into the results of Cornejo, et al. 2022 which finds that although spines follow the voltages of their parent dendrites during action potentials, spines have different voltages during sub-threshold/resting potential states.\n",
    "\n",
    "- Essential for preserving representations in dlPFC for delay cells.\n",
    "\n"
   ]
  },
  {
   "cell_type": "markdown",
   "id": "6c5f3447-3071-49d2-b2e1-b65b3b845cf9",
   "metadata": {},
   "source": [
    "# Establishing the basics\n",
    "\n",
    "A simple model inclduing a neuron group: a spine on a dendrite attached to a soma\n",
    "\n",
    "**Goal:** try to replicate spontaneous voltage potential in spine only."
   ]
  },
  {
   "cell_type": "code",
   "execution_count": 21,
   "id": "1f92bd4d-c634-4822-b671-262bf403f772",
   "metadata": {},
   "outputs": [
    {
     "data": {
      "text/plain": [
       "( )  [root] \n",
       "   `-|  .dendrite\n",
       "      `-|  .dendrite.spine\n",
       "         `( )  .dendrite.spine.head"
      ]
     },
     "execution_count": 21,
     "metadata": {},
     "output_type": "execute_result"
    }
   ],
   "source": [
    "# Morphology Params\n",
    "\n",
    "d_spine_head = 0.4 # um\n",
    "l_spine_neck = 0.4 # um\n",
    "d_spine_neck = 0.1 # um\n",
    "\n",
    "d_soma = 30 # um\n",
    "d_dendrite = 1 # um\n",
    "l_dendrite = 100 # um\n",
    "\n",
    "morph = Soma(diameter = d_soma*um)\n",
    "morph.dendrite = Cylinder(diameter = d_dendrite*um, length = l_dendrite*um, n = 1)\n",
    "morph.dendrite.spine = Cylinder(diameter = d_spine_neck*um, length = l_spine_neck*um, n = 1)\n",
    "morph.dendrite.spine.head = Soma(diameter = d_spine_head*um)\n",
    "\n",
    "morph.topology()"
   ]
  },
  {
   "cell_type": "code",
   "execution_count": 22,
   "id": "b67a9cb3-6227-42b2-926c-0aaa44bdac2b",
   "metadata": {},
   "outputs": [],
   "source": [
    "# Task: figure out a good way to visualize quickly\n",
    "\n",
    "new_morpho = morph.generate_coordinates()"
   ]
  },
  {
   "cell_type": "markdown",
   "id": "39c8e7e0-b3a7-4f56-aca7-dba778ac051f",
   "metadata": {},
   "source": [
    "The key state variable, which must be specified at construction, is **Im**. It is the total transmembrane current, expressed in units of current per area. This is a mandatory line in the definition of the model.\n",
    "\n",
    "At every timestep, Brian integrates the state variables, calculates the transmembrane current at every point on the neuronal morphology, and updates v using the transmembrane current and the diffusion current, which is calculated based on the morphology and the intracellular resistivity."
   ]
  },
  {
   "cell_type": "code",
   "execution_count": 23,
   "id": "4fa07cb2-7bb8-4179-8345-dbb4a08f5a36",
   "metadata": {},
   "outputs": [],
   "source": [
    "gL = 1e-4*siemens/cm**2\n",
    "EL = -70*mV\n",
    "Cm=1*uF/cm**2 # specific membrane capacitance\n",
    "Ri=100*ohm*cm # intracellular resistivity\n",
    "\n",
    "# Typical HH equations\n",
    "eqs = '''\n",
    "Im = gL * (EL - v) : amp/meter**2\n",
    "Is = gS * (Es - v) : amp (point current)\n",
    "dgs/dt = -gs/taus : siemens\n",
    "'''"
   ]
  },
  {
   "cell_type": "code",
   "execution_count": 24,
   "id": "ec24fdc3-0edb-4eb7-a5a0-6f71c7cdea28",
   "metadata": {},
   "outputs": [],
   "source": [
    "neuron = SpatialNeuron(morphology=morph, model=eqs, Cm=1*uF/cm**2, Ri=100*ohm*cm,)"
   ]
  },
  {
   "cell_type": "code",
   "execution_count": 25,
   "id": "6e1b1f32-473d-4970-943f-f7d345882e5c",
   "metadata": {},
   "outputs": [],
   "source": [
    "spine_head = neuron.dendrite.spine.head"
   ]
  },
  {
   "cell_type": "code",
   "execution_count": null,
   "id": "e25549a6-72fd-41d9-b1d8-e33fa917e255",
   "metadata": {},
   "outputs": [],
   "source": [
    "neuron.v = EL\n",
    "taum = Cm / gL # membrane time constant\n",
    "la = neuron.space_constant[0]\n",
    "\n",
    "N = 400\n",
    "# Monitors\n",
    "mon = StateMonitor(neuron, 'v', record = range(0, N//2, 20)"
   ]
  },
  {
   "cell_type": "code",
   "execution_count": null,
   "id": "4779a7ef-e290-45fd-901f-7288a2236961",
   "metadata": {},
   "outputs": [],
   "source": []
  }
 ],
 "metadata": {
  "kernelspec": {
   "display_name": "Python 3 (ipykernel)",
   "language": "python",
   "name": "python3"
  },
  "language_info": {
   "codemirror_mode": {
    "name": "ipython",
    "version": 3
   },
   "file_extension": ".py",
   "mimetype": "text/x-python",
   "name": "python",
   "nbconvert_exporter": "python",
   "pygments_lexer": "ipython3",
   "version": "3.9.12"
  }
 },
 "nbformat": 4,
 "nbformat_minor": 5
}
