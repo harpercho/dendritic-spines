{
 "cells": [
  {
   "cell_type": "markdown",
   "id": "7bc101cc-0934-41b2-9453-c6697d5a8f07",
   "metadata": {},
   "source": [
    "# Introduction\n",
    "\n",
    "Dendritic spines are an essential structure in dlPFC pyramidal neurons for regulating neuromodulators. Decreased populations of such spines have, for instance, been associated with schizophrenia and other neurological disorders. Studying their effect on excitatory neurotransmission is the goal of this project. Specifically, we want to look into the results of Cornejo, et al. 2022 which finds that although spines follow the voltages of their parent dendrites during action potentials, spines have different voltages during sub-threshold/resting potential states.\n",
    "\n",
    "- Essential for preserving representations in dlPFC for delay cells.\n",
    "\n"
   ]
  },
  {
   "cell_type": "markdown",
   "id": "bda604ac-b28b-413a-9ade-c586799d5876",
   "metadata": {},
   "source": [
    "## Quick BRIAN trial"
   ]
  },
  {
   "cell_type": "code",
   "execution_count": 1,
   "id": "4d8f560a-023e-40a9-9cf3-8e085b1276db",
   "metadata": {},
   "outputs": [
    {
     "ename": "NameError",
     "evalue": "name 'start_scope' is not defined",
     "output_type": "error",
     "traceback": [
      "\u001b[0;31m---------------------------------------------------------------------------\u001b[0m",
      "\u001b[0;31mNameError\u001b[0m                                 Traceback (most recent call last)",
      "\u001b[1;32m/Users/harpercho/Research/spines/brian-exploration.ipynb Cell 3\u001b[0m in \u001b[0;36m<cell line: 2>\u001b[0;34m()\u001b[0m\n\u001b[1;32m      <a href='vscode-notebook-cell:/Users/harpercho/Research/spines/brian-exploration.ipynb#W2sZmlsZQ%3D%3D?line=0'>1</a>\u001b[0m \u001b[39m# SKIP THIS CELL if you don't want to confuse the later cells...\u001b[39;00m\n\u001b[0;32m----> <a href='vscode-notebook-cell:/Users/harpercho/Research/spines/brian-exploration.ipynb#W2sZmlsZQ%3D%3D?line=1'>2</a>\u001b[0m start_scope()\n\u001b[1;32m      <a href='vscode-notebook-cell:/Users/harpercho/Research/spines/brian-exploration.ipynb#W2sZmlsZQ%3D%3D?line=3'>4</a>\u001b[0m eqs \u001b[39m=\u001b[39m \u001b[39m'''\u001b[39m\n\u001b[1;32m      <a href='vscode-notebook-cell:/Users/harpercho/Research/spines/brian-exploration.ipynb#W2sZmlsZQ%3D%3D?line=4'>5</a>\u001b[0m \u001b[39mdv/dt = (I - v)/tau: 1\u001b[39m\n\u001b[1;32m      <a href='vscode-notebook-cell:/Users/harpercho/Research/spines/brian-exploration.ipynb#W2sZmlsZQ%3D%3D?line=5'>6</a>\u001b[0m \u001b[39mI : 1\u001b[39m\n\u001b[1;32m      <a href='vscode-notebook-cell:/Users/harpercho/Research/spines/brian-exploration.ipynb#W2sZmlsZQ%3D%3D?line=6'>7</a>\u001b[0m \u001b[39mtau : second\u001b[39m\n\u001b[1;32m      <a href='vscode-notebook-cell:/Users/harpercho/Research/spines/brian-exploration.ipynb#W2sZmlsZQ%3D%3D?line=7'>8</a>\u001b[0m \u001b[39m'''\u001b[39m\n\u001b[1;32m     <a href='vscode-notebook-cell:/Users/harpercho/Research/spines/brian-exploration.ipynb#W2sZmlsZQ%3D%3D?line=9'>10</a>\u001b[0m G \u001b[39m=\u001b[39m NeuronGroup(\u001b[39m2\u001b[39m, eqs, threshold\u001b[39m=\u001b[39m\u001b[39m'\u001b[39m\u001b[39mv>1\u001b[39m\u001b[39m'\u001b[39m, reset\u001b[39m=\u001b[39m\u001b[39m'\u001b[39m\u001b[39mv = 0\u001b[39m\u001b[39m'\u001b[39m, method \u001b[39m=\u001b[39m \u001b[39m'\u001b[39m\u001b[39mexact\u001b[39m\u001b[39m'\u001b[39m)\n",
      "\u001b[0;31mNameError\u001b[0m: name 'start_scope' is not defined"
     ]
    }
   ],
   "source": [
    "# SKIP THIS CELL if you don't want to confuse the later cells...\n",
    "start_scope()\n",
    "\n",
    "eqs = '''\n",
    "dv/dt = (I - v)/tau: 1\n",
    "I : 1\n",
    "tau : second\n",
    "'''\n",
    "\n",
    "G = NeuronGroup(2, eqs, threshold='v>1', reset='v = 0', method = 'exact')\n",
    "G.I = [2, 0]\n",
    "G.tau = [10, 100]*ms\n",
    "\n",
    "# Synapse\n",
    "S = Synapses(G, G, on_pre='v_post += 0.2')\n",
    "S.connect(i = 0, j = 1)\n",
    "\n",
    "M = StateMonitor(G, 'v', record=True)\n",
    "\n",
    "run(100*ms)\n",
    "\n",
    "plot(M.t/ms, M.v[0], label = 'Neuron 0')\n",
    "plot(M.t/ms, M.v[1], label = 'Neuron 1')\n",
    "xlabel('Time (ms)')\n",
    "ylabel('v')\n",
    "legend();"
   ]
  },
  {
   "cell_type": "markdown",
   "id": "6c5f3447-3071-49d2-b2e1-b65b3b845cf9",
   "metadata": {},
   "source": [
    "# Establishing the basics\n",
    "\n",
    "A simple model inclduing a neuron group: a spine on a dendrite attached to a soma\n",
    "\n",
    "**Goal:** try to replicate spontaneous voltage potential in spine only."
   ]
  },
  {
   "cell_type": "code",
   "execution_count": null,
   "id": "1f92bd4d-c634-4822-b671-262bf403f772",
   "metadata": {},
   "outputs": [
    {
     "data": {
      "text/plain": [
       "( )  [root] \n",
       "   `------|  .dendrite\n",
       "           `-|  .dendrite.spine\n",
       "              `( )  .dendrite.spine.head"
      ]
     },
     "execution_count": 2,
     "metadata": {},
     "output_type": "execute_result"
    }
   ],
   "source": [
    "# Morphology Params\n",
    "# These default values are from Lagache et al. 2019. I take the average of a range of values cited.\n",
    "\n",
    "d_spine_head = 0.4 # um\n",
    "l_spine_neck = 0.4 # um\n",
    "d_spine_neck = 0.1 # um\n",
    "\n",
    "d_soma = 30 # um\n",
    "d_dendrite = 1 # um\n",
    "l_dendrite = 100 # um\n",
    "\n",
    "morph = Soma(diameter = d_soma*um)\n",
    "morph.dendrite = Cylinder(diameter = d_dendrite*um, length = l_dendrite*um, n = 6)\n",
    "morph.dendrite.spine = Cylinder(diameter = d_spine_neck*um, length = l_spine_neck*um, n = 1)\n",
    "morph.dendrite.spine.head = Soma(diameter = d_spine_head*um)\n",
    "\n",
    "morph.topology()"
   ]
  },
  {
   "cell_type": "code",
   "execution_count": null,
   "id": "b67a9cb3-6227-42b2-926c-0aaa44bdac2b",
   "metadata": {},
   "outputs": [],
   "source": [
    "# Task: figure out a good way to visualize quickly\n",
    "\n",
    "new_morpho = morph.generate_coordinates()"
   ]
  },
  {
   "cell_type": "markdown",
   "id": "39c8e7e0-b3a7-4f56-aca7-dba778ac051f",
   "metadata": {},
   "source": [
    "The key state variable, which must be specified at construction, is $I_m$. It is the total transmembrane current, expressed in units of current per area. This is a mandatory line in the definition of the model.\n",
    "\n",
    "At every timestep, Brian integrates the state variables, calculates the transmembrane current at every point on the neuronal morphology, and updates v using the transmembrane current and the diffusion current, which is calculated based on the morphology and the intracellular resistivity."
   ]
  },
  {
   "cell_type": "code",
   "execution_count": null,
   "id": "4fa07cb2-7bb8-4179-8345-dbb4a08f5a36",
   "metadata": {},
   "outputs": [],
   "source": [
    "start_scope()\n",
    "defaultclock.dt = 0.05*ms\n",
    "\n",
    "gL = 1e-4*siemens/cm**2\n",
    "EL = -70*mV\n",
    "Cm=1*uF/cm**2 # specific membrane capacitance\n",
    "Ri=100*ohm*cm # intracellular resistivity\n",
    "N = 400\n",
    "\n",
    "thres = 'v > 0*mV'\n",
    "ref = 'v > -10*mV'\n",
    "\n",
    "eqs = '''\n",
    "Im = gL * (EL - v) : amp/meter**2\n",
    "I : amp (point current)\n",
    "'''"
   ]
  },
  {
   "cell_type": "code",
   "execution_count": null,
   "id": "ec24fdc3-0edb-4eb7-a5a0-6f71c7cdea28",
   "metadata": {},
   "outputs": [],
   "source": [
    "neuron = SpatialNeuron(morphology=morph, model=eqs, Cm=Cm, Ri=Ri, threshold = thres, \n",
    "                       threshold_location = 0, refractory = ref)"
   ]
  },
  {
   "cell_type": "code",
   "execution_count": null,
   "id": "e25549a6-72fd-41d9-b1d8-e33fa917e255",
   "metadata": {},
   "outputs": [
    {
     "name": "stdout",
     "output_type": "stream",
     "text": [
      "Time constant: 10. ms\n",
      "Characteristic length: 14.40977202 mm\n",
      "Starting simulation at t=0. s for a duration of 10. ms\n",
      "10. ms (100%) simulated in < 1s\n",
      "Starting simulation at t=10.02 ms for a duration of 10. ms\n",
      "10. ms (100%) simulated in < 1s\n"
     ]
    }
   ],
   "source": [
    "\n",
    "neuron.v = EL\n",
    "taum = Cm / gL # membrane time constant\n",
    "print(\"Time constant: %s\" % taum)\n",
    "la = neuron.space_constant[0]\n",
    "print(\"Characteristic length: %s\" % la)\n",
    "\n",
    "# Actual simulation\n",
    "mon = StateMonitor(neuron, 'v', record = True)\n",
    "spikes = SpikeMonitor(neuron)\n",
    "\n",
    "run(10*ms, report = 'text')\n",
    "neuron.I[8] = 1*nA # inject current at spine head\n",
    "run(0.02*ms)\n",
    "neuron.I = 0*amp\n",
    "run(10*ms, report='text')\n",
    "\n",
    "t = mon.t"
   ]
  },
  {
   "cell_type": "code",
   "execution_count": null,
   "id": "75b8bb08",
   "metadata": {},
   "outputs": [
    {
     "data": {
      "text/plain": [
       "9"
      ]
     },
     "execution_count": 7,
     "metadata": {},
     "output_type": "execute_result"
    }
   ],
   "source": [
    "len(mon.v)"
   ]
  },
  {
   "cell_type": "code",
   "execution_count": null,
   "id": "e6662ac2",
   "metadata": {},
   "outputs": [
    {
     "name": "stderr",
     "output_type": "stream",
     "text": [
      "WARNING    /var/folders/nv/w1hsrq1s4wx19t3hqby38n2c0000gn/T/ipykernel_32753/1875838613.py:2: UserWarning: color is redundantly defined by the 'color' keyword argument and the fmt string \"k\" (-> color=(0.0, 0.0, 0.0, 1)). The keyword argument will take precedence.\n",
      "  ax[0].plot(t/ms, mon.v[0].T/mV, 'k', c = 'red', label = \"Soma\")\n",
      " [py.warnings]\n",
      "WARNING    /var/folders/nv/w1hsrq1s4wx19t3hqby38n2c0000gn/T/ipykernel_32753/1875838613.py:3: UserWarning: color is redundantly defined by the 'color' keyword argument and the fmt string \"k\" (-> color=(0.0, 0.0, 0.0, 1)). The keyword argument will take precedence.\n",
      "  ax[1].plot(t/ms, mon.v[1:8].T/mV, 'k', c = 'blue', alpha = 0.1,label = \"Dendrite\")\n",
      " [py.warnings]\n",
      "WARNING    /var/folders/nv/w1hsrq1s4wx19t3hqby38n2c0000gn/T/ipykernel_32753/1875838613.py:4: UserWarning: color is redundantly defined by the 'color' keyword argument and the fmt string \"k\" (-> color=(0.0, 0.0, 0.0, 1)). The keyword argument will take precedence.\n",
      "  ax[2].plot(t/ms, mon.v[8].T/mV, 'k', c = 'green', label = \"Spine Head\")\n",
      " [py.warnings]\n"
     ]
    },
    {
     "data": {
      "text/plain": [
       "<matplotlib.legend.Legend at 0x7fb66124b0a0>"
      ]
     },
     "execution_count": 8,
     "metadata": {},
     "output_type": "execute_result"
    },
    {
     "data": {
      "image/png": "[encoded data removed]",
      "text/plain": [
       "<Figure size 1200x300 with 3 Axes>"
      ]
     },
     "metadata": {
      "needs_background": "light"
     },
     "output_type": "display_data"
    }
   ],
   "source": [
    "fig, ax = plt.subplots(1,3, figsize = (12,3), dpi = 100)\n",
    "ax[0].plot(t/ms, mon.v[0].T/mV, 'k', c = 'red', label = \"Soma\")\n",
    "ax[1].plot(t/ms, mon.v[1:8].T/mV, 'k', c = 'blue', alpha = 0.1,label = \"Dendrite\")\n",
    "ax[2].plot(t/ms, mon.v[8].T/mV, 'k', c = 'green', label = \"Spine Head\")\n",
    "plt.legend()"
   ]
  },
  {
   "cell_type": "markdown",
   "id": "d0c711fe",
   "metadata": {},
   "source": [
    "# Neuromodulation in dlPFC"
   ]
  },
  {
   "cell_type": "markdown",
   "id": "440e5311",
   "metadata": {},
   "source": [
    "**calcium-cAMP-PKA**\n",
    "- cAMP-PKA signaling can increase RyR and IP3 receptors which increases Ca2+\n",
    "- Ca2+ in cytosol generates cAMP (feedforward cycling)\n",
    "- K+ channels (HCN, KCNQ) open with cAMP and PKA\n",
    "\n",
    "**Acetylcholine**\n",
    "Acts at \n",
    "- Nic $\\alpha$ 7R: Ion channels (Ca+)\n",
    "- M1R within the glutamate synapse: Indirect, closes neighboring K+ channels / increases Ca2+ release near the synapse via IP3 signaling / at high levels may excite GABAergic interneurons, or may open K+ channels indirectly (IP3)\n",
    "\n",
    "**Dopamine**\n",
    "- D1R have been shown to enhance NMDAR actions -> enhance calcium flux.\n",
    "\n",
    "**Noradrenaline**\n",
    "- moderate levels engage $\\alpha$2A-AR: strengthens delay cell firing via inhibition of cAMP-K+ signaling\n",
    "- high levels engage $\\alpha$1A-AR: weakens delay cell firing (?)\n",
    "\n",
    "**Serotonin**\n",
    "-?\n"
   ]
  },
  {
   "cell_type": "markdown",
   "id": "40576126",
   "metadata": {},
   "source": [
    "### A minimal set of channels\n",
    "Membrane: K+ (leak - membrane),\\\n",
    "HEAD: AMPAR (Na), NMDA (Na, Ca2+), Nic-a7R (also Ca2+)\\\n",
    "NECK: KCNQ, HCN\\\n",
    "\n",
    "- Need calcium buffering\n",
    "- components/processes needed; candidate models\n",
    "- flow diagram for electrical shunting\n",
    "\n",
    "- effective spine neck resistance is something measurable.\n",
    "- How strong do the conductances need to be in order to give a dynamic range of effective synaptic strength.\n",
    "\n",
    "dendrite + spine potential + putting ambient nmda potentials on the dendrite\n",
    "\n",
    "The following builds off of **Brunel and Wang 2001**.\n",
    "\n",
    "Here we will use leaky integrate-and-fire neurons which are characterized by a resting potential and a $V_L = -70 \\text{mV}$ and a firing threshold $V_{thr} = -50 \\text{mV}$, a reset potential $V_{reset} = -55 \\text{mV}$ and a membrane capacitance of $C_m = 0.5 \\text{nF}$, a membrane eleak conductance $g_m = 35 \\text{nS}$, and a refractory period $\\tau_{rp} = 2 \\text{ms}$"
   ]
  },
  {
   "cell_type": "markdown",
   "id": "2f868b38",
   "metadata": {},
   "source": []
  },
  {
   "cell_type": "markdown",
   "id": "59e845e1",
   "metadata": {},
   "source": [
    "### modified LIF equations\n",
    "\n",
    "\\begin{align*}\n",
    "\\frac{dv}{dt} &= \\frac{-g_m (V - V_L) - I_{syn}}{C_m}\\\\\n",
    "I_{syn} &= I_{AMPA} + I_{NMDA,Ca} + I_{NMDA,Na} + I_{Ca} + I_K \\\\\n",
    "\\end{align*}\n",
    "\n",
    "Where we define\n",
    "\\begin{align*}\n",
    "I_{AMPA} &= g_{AMPA} * (v - V_{AMPA}) * s_{AMPA}\\\\\n",
    "\\frac{ds_{AMPA}}{dt} &= - s_{AMPA} / \\tau_{AMPA}\\\\\n",
    "I_\\text{NMDA} &= \\frac{g_\\text{NMDA} * (v - V_\\text{NMDA}) * s_{\\text{NMDA}}}{1 + \\text{Mg2} e^{-0.062 v}/3.57}\n",
    "\\frac{ds_\\text{NMDA}}{dt} = \n",
    "\\end{align*}\n",
    "\n",
    "\n",
    "I also need a dynamic equation for $[Ca2+]$\n",
    "\\begin{equation}\n",
    "\\frac{d[\\text{Ca}^{2+}]}{dt} = - w*[\\text{Ca}^{2+}]\n",
    "\\end{equation}\n"
   ]
  },
  {
   "cell_type": "code",
   "execution_count": null,
   "id": "ee2d1f2e",
   "metadata": {},
   "outputs": [
    {
     "ename": "NameError",
     "evalue": "name 'C' is not defined",
     "output_type": "error",
     "traceback": [
      "\u001b[0;31m---------------------------------------------------------------------------\u001b[0m",
      "\u001b[0;31mNameError\u001b[0m                                 Traceback (most recent call last)",
      "\u001b[1;32m/Users/harpercho/Research/spines/brian-exploration.ipynb Cell 18\u001b[0m in \u001b[0;36m<cell line: 5>\u001b[0;34m()\u001b[0m\n\u001b[1;32m      <a href='vscode-notebook-cell:/Users/harpercho/Research/spines/brian-exploration.ipynb#X23sZmlsZQ%3D%3D?line=2'>3</a>\u001b[0m R \u001b[39m=\u001b[39m \u001b[39m8.314\u001b[39m \u001b[39m# J/(K mol)\u001b[39;00m\n\u001b[1;32m      <a href='vscode-notebook-cell:/Users/harpercho/Research/spines/brian-exploration.ipynb#X23sZmlsZQ%3D%3D?line=3'>4</a>\u001b[0m E_NMDA_Ca \u001b[39m=\u001b[39m \u001b[39m40\u001b[39m \u001b[39m# mV reversal potential of the NMDA channels for calcium (Schenggenurger et al 1993, Spruston 1995)\u001b[39;00m\n\u001b[0;32m----> <a href='vscode-notebook-cell:/Users/harpercho/Research/spines/brian-exploration.ipynb#X23sZmlsZQ%3D%3D?line=4'>5</a>\u001b[0m C\n\u001b[1;32m      <a href='vscode-notebook-cell:/Users/harpercho/Research/spines/brian-exploration.ipynb#X23sZmlsZQ%3D%3D?line=6'>7</a>\u001b[0m gL \u001b[39m=\u001b[39m \u001b[39m1e-4\u001b[39m\u001b[39m*\u001b[39msiemens\u001b[39m/\u001b[39mcm\u001b[39m*\u001b[39m\u001b[39m*\u001b[39m\u001b[39m2\u001b[39m\n\u001b[1;32m      <a href='vscode-notebook-cell:/Users/harpercho/Research/spines/brian-exploration.ipynb#X23sZmlsZQ%3D%3D?line=7'>8</a>\u001b[0m EL \u001b[39m=\u001b[39m \u001b[39m-\u001b[39m\u001b[39m70\u001b[39m\u001b[39m*\u001b[39mmV\n",
      "\u001b[0;31mNameError\u001b[0m: name 'C' is not defined"
     ]
    }
   ],
   "source": [
    "# Constants\n",
    "F = 96485 # C/mol\n",
    "R = 8.314 # J/(K mol)\n",
    "E_NMDA_Ca = 40 # mV reversal potential of the NMDA channels for calcium (Schenggenurger et al 1993, Spruston 1995)\n",
    "C\n",
    "\n",
    "gL = 1e-4*siemens/cm**2\n",
    "EL = -70*mV\n",
    "eqs = '''\n",
    "Im = gL * (EL - v)  + I_AMPA + I_NMDA : amp/meter**2\n",
    "I = : amp (point current) # to be injected wherever\n",
    "\n",
    "\n",
    "'''"
   ]
  },
  {
   "cell_type": "code",
   "execution_count": null,
   "id": "ad2192a3",
   "metadata": {},
   "outputs": [],
   "source": []
  }
 ],
 "metadata": {
  "kernelspec": {
   "display_name": "Python 3.9.12 ('base')",
   "language": "python",
   "name": "python3"
  },
  "language_info": {
   "codemirror_mode": {
    "name": "ipython",
    "version": 3
   },
   "file_extension": ".py",
   "mimetype": "text/x-python",
   "name": "python",
   "nbconvert_exporter": "python",
   "pygments_lexer": "ipython3",
   "version": "3.9.12"
  },
  "vscode": {
   "interpreter": {
    "hash": "3dbba0d04097a2ca3f96d967dc8f6d7349661b21bb9badbbe655fd58f0434db7"
   }
  }
 },
 "nbformat": 4,
 "nbformat_minor": 5
}
